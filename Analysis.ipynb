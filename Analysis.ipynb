{
 "cells": [
  {
   "cell_type": "code",
   "execution_count": 1,
   "metadata": {},
   "outputs": [],
   "source": [
    "import pandas as pd\n",
    "import matplotlib.pyplot as plt\n",
    "import numpy as np\n",
    "import seaborn as sns"
   ]
  },
  {
   "cell_type": "code",
   "execution_count": 2,
   "metadata": {},
   "outputs": [
    {
     "data": {
      "text/html": [
       "<div>\n",
       "<style scoped>\n",
       "    .dataframe tbody tr th:only-of-type {\n",
       "        vertical-align: middle;\n",
       "    }\n",
       "\n",
       "    .dataframe tbody tr th {\n",
       "        vertical-align: top;\n",
       "    }\n",
       "\n",
       "    .dataframe thead th {\n",
       "        text-align: right;\n",
       "    }\n",
       "</style>\n",
       "<table border=\"1\" class=\"dataframe\">\n",
       "  <thead>\n",
       "    <tr style=\"text-align: right;\">\n",
       "      <th></th>\n",
       "      <th>emotion</th>\n",
       "      <th>pixel_0</th>\n",
       "      <th>pixel_1</th>\n",
       "      <th>pixel_2</th>\n",
       "      <th>pixel_3</th>\n",
       "      <th>pixel_4</th>\n",
       "      <th>pixel_5</th>\n",
       "      <th>pixel_6</th>\n",
       "      <th>pixel_7</th>\n",
       "      <th>pixel_8</th>\n",
       "      <th>...</th>\n",
       "      <th>pixel_2294</th>\n",
       "      <th>pixel_2295</th>\n",
       "      <th>pixel_2296</th>\n",
       "      <th>pixel_2297</th>\n",
       "      <th>pixel_2298</th>\n",
       "      <th>pixel_2299</th>\n",
       "      <th>pixel_2300</th>\n",
       "      <th>pixel_2301</th>\n",
       "      <th>pixel_2302</th>\n",
       "      <th>pixel_2303</th>\n",
       "    </tr>\n",
       "  </thead>\n",
       "  <tbody>\n",
       "    <tr>\n",
       "      <th>0</th>\n",
       "      <td>Fear</td>\n",
       "      <td>231</td>\n",
       "      <td>212</td>\n",
       "      <td>156</td>\n",
       "      <td>164</td>\n",
       "      <td>174</td>\n",
       "      <td>138</td>\n",
       "      <td>161</td>\n",
       "      <td>173</td>\n",
       "      <td>182</td>\n",
       "      <td>...</td>\n",
       "      <td>104</td>\n",
       "      <td>138</td>\n",
       "      <td>152</td>\n",
       "      <td>122</td>\n",
       "      <td>114</td>\n",
       "      <td>101</td>\n",
       "      <td>97</td>\n",
       "      <td>88</td>\n",
       "      <td>110</td>\n",
       "      <td>152</td>\n",
       "    </tr>\n",
       "    <tr>\n",
       "      <th>1</th>\n",
       "      <td>Fear</td>\n",
       "      <td>55</td>\n",
       "      <td>55</td>\n",
       "      <td>55</td>\n",
       "      <td>55</td>\n",
       "      <td>55</td>\n",
       "      <td>54</td>\n",
       "      <td>60</td>\n",
       "      <td>68</td>\n",
       "      <td>54</td>\n",
       "      <td>...</td>\n",
       "      <td>90</td>\n",
       "      <td>83</td>\n",
       "      <td>77</td>\n",
       "      <td>53</td>\n",
       "      <td>37</td>\n",
       "      <td>34</td>\n",
       "      <td>30</td>\n",
       "      <td>34</td>\n",
       "      <td>30</td>\n",
       "      <td>57</td>\n",
       "    </tr>\n",
       "    <tr>\n",
       "      <th>2</th>\n",
       "      <td>Sad</td>\n",
       "      <td>20</td>\n",
       "      <td>17</td>\n",
       "      <td>19</td>\n",
       "      <td>21</td>\n",
       "      <td>25</td>\n",
       "      <td>38</td>\n",
       "      <td>42</td>\n",
       "      <td>42</td>\n",
       "      <td>46</td>\n",
       "      <td>...</td>\n",
       "      <td>29</td>\n",
       "      <td>36</td>\n",
       "      <td>68</td>\n",
       "      <td>91</td>\n",
       "      <td>85</td>\n",
       "      <td>93</td>\n",
       "      <td>97</td>\n",
       "      <td>99</td>\n",
       "      <td>107</td>\n",
       "      <td>118</td>\n",
       "    </tr>\n",
       "    <tr>\n",
       "      <th>3</th>\n",
       "      <td>Happy</td>\n",
       "      <td>4</td>\n",
       "      <td>2</td>\n",
       "      <td>13</td>\n",
       "      <td>41</td>\n",
       "      <td>56</td>\n",
       "      <td>62</td>\n",
       "      <td>67</td>\n",
       "      <td>87</td>\n",
       "      <td>95</td>\n",
       "      <td>...</td>\n",
       "      <td>59</td>\n",
       "      <td>66</td>\n",
       "      <td>80</td>\n",
       "      <td>74</td>\n",
       "      <td>69</td>\n",
       "      <td>99</td>\n",
       "      <td>28</td>\n",
       "      <td>3</td>\n",
       "      <td>7</td>\n",
       "      <td>12</td>\n",
       "    </tr>\n",
       "    <tr>\n",
       "      <th>4</th>\n",
       "      <td>Fear</td>\n",
       "      <td>255</td>\n",
       "      <td>255</td>\n",
       "      <td>255</td>\n",
       "      <td>255</td>\n",
       "      <td>255</td>\n",
       "      <td>255</td>\n",
       "      <td>255</td>\n",
       "      <td>255</td>\n",
       "      <td>255</td>\n",
       "      <td>...</td>\n",
       "      <td>94</td>\n",
       "      <td>21</td>\n",
       "      <td>22</td>\n",
       "      <td>51</td>\n",
       "      <td>71</td>\n",
       "      <td>80</td>\n",
       "      <td>82</td>\n",
       "      <td>79</td>\n",
       "      <td>79</td>\n",
       "      <td>83</td>\n",
       "    </tr>\n",
       "  </tbody>\n",
       "</table>\n",
       "<p>5 rows × 2305 columns</p>\n",
       "</div>"
      ],
      "text/plain": [
       "  emotion  pixel_0  pixel_1  pixel_2  pixel_3  pixel_4  pixel_5  pixel_6  \\\n",
       "0    Fear      231      212      156      164      174      138      161   \n",
       "1    Fear       55       55       55       55       55       54       60   \n",
       "2     Sad       20       17       19       21       25       38       42   \n",
       "3   Happy        4        2       13       41       56       62       67   \n",
       "4    Fear      255      255      255      255      255      255      255   \n",
       "\n",
       "   pixel_7  pixel_8  ...  pixel_2294  pixel_2295  pixel_2296  pixel_2297  \\\n",
       "0      173      182  ...         104         138         152         122   \n",
       "1       68       54  ...          90          83          77          53   \n",
       "2       42       46  ...          29          36          68          91   \n",
       "3       87       95  ...          59          66          80          74   \n",
       "4      255      255  ...          94          21          22          51   \n",
       "\n",
       "   pixel_2298  pixel_2299  pixel_2300  pixel_2301  pixel_2302  pixel_2303  \n",
       "0         114         101          97          88         110         152  \n",
       "1          37          34          30          34          30          57  \n",
       "2          85          93          97          99         107         118  \n",
       "3          69          99          28           3           7          12  \n",
       "4          71          80          82          79          79          83  \n",
       "\n",
       "[5 rows x 2305 columns]"
      ]
     },
     "execution_count": 2,
     "metadata": {},
     "output_type": "execute_result"
    }
   ],
   "source": [
    "data = pd.read_csv('data/aithon2020_level2_traning.csv')\n",
    "data.head()"
   ]
  },
  {
   "cell_type": "code",
   "execution_count": 3,
   "metadata": {},
   "outputs": [
    {
     "data": {
      "text/html": [
       "<div>\n",
       "<style scoped>\n",
       "    .dataframe tbody tr th:only-of-type {\n",
       "        vertical-align: middle;\n",
       "    }\n",
       "\n",
       "    .dataframe tbody tr th {\n",
       "        vertical-align: top;\n",
       "    }\n",
       "\n",
       "    .dataframe thead th {\n",
       "        text-align: right;\n",
       "    }\n",
       "</style>\n",
       "<table border=\"1\" class=\"dataframe\">\n",
       "  <thead>\n",
       "    <tr style=\"text-align: right;\">\n",
       "      <th></th>\n",
       "      <th>pixel_0</th>\n",
       "      <th>pixel_1</th>\n",
       "      <th>pixel_2</th>\n",
       "      <th>pixel_3</th>\n",
       "      <th>pixel_4</th>\n",
       "      <th>pixel_5</th>\n",
       "      <th>pixel_6</th>\n",
       "      <th>pixel_7</th>\n",
       "      <th>pixel_8</th>\n",
       "      <th>pixel_9</th>\n",
       "      <th>...</th>\n",
       "      <th>pixel_2294</th>\n",
       "      <th>pixel_2295</th>\n",
       "      <th>pixel_2296</th>\n",
       "      <th>pixel_2297</th>\n",
       "      <th>pixel_2298</th>\n",
       "      <th>pixel_2299</th>\n",
       "      <th>pixel_2300</th>\n",
       "      <th>pixel_2301</th>\n",
       "      <th>pixel_2302</th>\n",
       "      <th>pixel_2303</th>\n",
       "    </tr>\n",
       "  </thead>\n",
       "  <tbody>\n",
       "    <tr>\n",
       "      <th>0</th>\n",
       "      <td>231</td>\n",
       "      <td>212</td>\n",
       "      <td>156</td>\n",
       "      <td>164</td>\n",
       "      <td>174</td>\n",
       "      <td>138</td>\n",
       "      <td>161</td>\n",
       "      <td>173</td>\n",
       "      <td>182</td>\n",
       "      <td>200</td>\n",
       "      <td>...</td>\n",
       "      <td>104</td>\n",
       "      <td>138</td>\n",
       "      <td>152</td>\n",
       "      <td>122</td>\n",
       "      <td>114</td>\n",
       "      <td>101</td>\n",
       "      <td>97</td>\n",
       "      <td>88</td>\n",
       "      <td>110</td>\n",
       "      <td>152</td>\n",
       "    </tr>\n",
       "    <tr>\n",
       "      <th>1</th>\n",
       "      <td>55</td>\n",
       "      <td>55</td>\n",
       "      <td>55</td>\n",
       "      <td>55</td>\n",
       "      <td>55</td>\n",
       "      <td>54</td>\n",
       "      <td>60</td>\n",
       "      <td>68</td>\n",
       "      <td>54</td>\n",
       "      <td>85</td>\n",
       "      <td>...</td>\n",
       "      <td>90</td>\n",
       "      <td>83</td>\n",
       "      <td>77</td>\n",
       "      <td>53</td>\n",
       "      <td>37</td>\n",
       "      <td>34</td>\n",
       "      <td>30</td>\n",
       "      <td>34</td>\n",
       "      <td>30</td>\n",
       "      <td>57</td>\n",
       "    </tr>\n",
       "    <tr>\n",
       "      <th>2</th>\n",
       "      <td>20</td>\n",
       "      <td>17</td>\n",
       "      <td>19</td>\n",
       "      <td>21</td>\n",
       "      <td>25</td>\n",
       "      <td>38</td>\n",
       "      <td>42</td>\n",
       "      <td>42</td>\n",
       "      <td>46</td>\n",
       "      <td>54</td>\n",
       "      <td>...</td>\n",
       "      <td>29</td>\n",
       "      <td>36</td>\n",
       "      <td>68</td>\n",
       "      <td>91</td>\n",
       "      <td>85</td>\n",
       "      <td>93</td>\n",
       "      <td>97</td>\n",
       "      <td>99</td>\n",
       "      <td>107</td>\n",
       "      <td>118</td>\n",
       "    </tr>\n",
       "    <tr>\n",
       "      <th>3</th>\n",
       "      <td>4</td>\n",
       "      <td>2</td>\n",
       "      <td>13</td>\n",
       "      <td>41</td>\n",
       "      <td>56</td>\n",
       "      <td>62</td>\n",
       "      <td>67</td>\n",
       "      <td>87</td>\n",
       "      <td>95</td>\n",
       "      <td>62</td>\n",
       "      <td>...</td>\n",
       "      <td>59</td>\n",
       "      <td>66</td>\n",
       "      <td>80</td>\n",
       "      <td>74</td>\n",
       "      <td>69</td>\n",
       "      <td>99</td>\n",
       "      <td>28</td>\n",
       "      <td>3</td>\n",
       "      <td>7</td>\n",
       "      <td>12</td>\n",
       "    </tr>\n",
       "    <tr>\n",
       "      <th>4</th>\n",
       "      <td>255</td>\n",
       "      <td>255</td>\n",
       "      <td>255</td>\n",
       "      <td>255</td>\n",
       "      <td>255</td>\n",
       "      <td>255</td>\n",
       "      <td>255</td>\n",
       "      <td>255</td>\n",
       "      <td>255</td>\n",
       "      <td>255</td>\n",
       "      <td>...</td>\n",
       "      <td>94</td>\n",
       "      <td>21</td>\n",
       "      <td>22</td>\n",
       "      <td>51</td>\n",
       "      <td>71</td>\n",
       "      <td>80</td>\n",
       "      <td>82</td>\n",
       "      <td>79</td>\n",
       "      <td>79</td>\n",
       "      <td>83</td>\n",
       "    </tr>\n",
       "  </tbody>\n",
       "</table>\n",
       "<p>5 rows × 2304 columns</p>\n",
       "</div>"
      ],
      "text/plain": [
       "   pixel_0  pixel_1  pixel_2  pixel_3  pixel_4  pixel_5  pixel_6  pixel_7  \\\n",
       "0      231      212      156      164      174      138      161      173   \n",
       "1       55       55       55       55       55       54       60       68   \n",
       "2       20       17       19       21       25       38       42       42   \n",
       "3        4        2       13       41       56       62       67       87   \n",
       "4      255      255      255      255      255      255      255      255   \n",
       "\n",
       "   pixel_8  pixel_9  ...  pixel_2294  pixel_2295  pixel_2296  pixel_2297  \\\n",
       "0      182      200  ...         104         138         152         122   \n",
       "1       54       85  ...          90          83          77          53   \n",
       "2       46       54  ...          29          36          68          91   \n",
       "3       95       62  ...          59          66          80          74   \n",
       "4      255      255  ...          94          21          22          51   \n",
       "\n",
       "   pixel_2298  pixel_2299  pixel_2300  pixel_2301  pixel_2302  pixel_2303  \n",
       "0         114         101          97          88         110         152  \n",
       "1          37          34          30          34          30          57  \n",
       "2          85          93          97          99         107         118  \n",
       "3          69          99          28           3           7          12  \n",
       "4          71          80          82          79          79          83  \n",
       "\n",
       "[5 rows x 2304 columns]"
      ]
     },
     "execution_count": 3,
     "metadata": {},
     "output_type": "execute_result"
    }
   ],
   "source": [
    "only_pic = data.drop(['emotion'], axis=1)\n",
    "only_pic.head()"
   ]
  },
  {
   "cell_type": "code",
   "execution_count": 4,
   "metadata": {},
   "outputs": [
    {
     "data": {
      "text/plain": [
       "(10817, 2304)"
      ]
     },
     "execution_count": 4,
     "metadata": {},
     "output_type": "execute_result"
    }
   ],
   "source": [
    "only_pic.shape"
   ]
  },
  {
   "cell_type": "code",
   "execution_count": 5,
   "metadata": {},
   "outputs": [
    {
     "data": {
      "image/png": "[encoded data removed]",
      "text/plain": [
       "<Figure size 432x288 with 1 Axes>"
      ]
     },
     "metadata": {
      "needs_background": "light"
     },
     "output_type": "display_data"
    }
   ],
   "source": [
    "for pic in only_pic.iterrows():\n",
    "    tmp = np.array(pic[1]).reshape((48,48))\n",
    "    plt.imshow(tmp, cmap='gray')\n",
    "    break"
   ]
  },
  {
   "cell_type": "code",
   "execution_count": 6,
   "metadata": {},
   "outputs": [
    {
     "data": {
      "text/plain": [
       "(10817,)"
      ]
     },
     "execution_count": 6,
     "metadata": {},
     "output_type": "execute_result"
    }
   ],
   "source": [
    "labels = data['emotion']\n",
    "labels.shape"
   ]
  },
  {
   "cell_type": "code",
   "execution_count": 7,
   "metadata": {},
   "outputs": [
    {
     "data": {
      "text/plain": [
       "<matplotlib.axes._subplots.AxesSubplot at 0x1f283888e08>"
      ]
     },
     "execution_count": 7,
     "metadata": {},
     "output_type": "execute_result"
    },
    {
     "data": {
      "image/png": "[encoded data removed]",
      "text/plain": [
       "<Figure size 432x288 with 1 Axes>"
      ]
     },
     "metadata": {
      "needs_background": "light"
     },
     "output_type": "display_data"
    }
   ],
   "source": [
    "sns.countplot(labels)"
   ]
  },
  {
   "cell_type": "code",
   "execution_count": 8,
   "metadata": {},
   "outputs": [],
   "source": [
    "from sklearn.model_selection import train_test_split\n",
    "import torch\n",
    "import torchvision\n",
    "import torchvision.transforms as transforms\n",
    "from torch.utils.data import DataLoader, TensorDataset\n",
    "from torchvision.utils import make_grid\n",
    "\n",
    "#neural net imports\n",
    "import torch.nn as nn\n",
    "import torch.nn.functional as F\n",
    "import torch.optim as optim\n",
    "from torch.autograd import Variable"
   ]
  },
  {
   "cell_type": "code",
   "execution_count": 9,
   "metadata": {},
   "outputs": [],
   "source": [
    "r_mapping = {0:'Fear', 1:'Happy', 2:'Sad'}\n",
    "mapping = {'Fear':0, 'Happy':1,'Sad':2}\n",
    "train_labels = data['emotion'].map(mapping).values\n",
    "train_images = (data.iloc[:, 1:].values).astype('float32')"
   ]
  },
  {
   "cell_type": "code",
   "execution_count": 10,
   "metadata": {},
   "outputs": [
    {
     "data": {
      "text/plain": [
       "(10817, 2304)"
      ]
     },
     "execution_count": 10,
     "metadata": {},
     "output_type": "execute_result"
    }
   ],
   "source": [
    "train_images.shape"
   ]
  },
  {
   "cell_type": "code",
   "execution_count": 11,
   "metadata": {},
   "outputs": [
    {
     "data": {
      "text/plain": [
       "(10817,)"
      ]
     },
     "execution_count": 11,
     "metadata": {},
     "output_type": "execute_result"
    }
   ],
   "source": [
    "train_labels.shape"
   ]
  },
  {
   "cell_type": "code",
   "execution_count": 12,
   "metadata": {},
   "outputs": [
    {
     "data": {
      "text/plain": [
       "(10817, 1, 48, 48)"
      ]
     },
     "execution_count": 12,
     "metadata": {},
     "output_type": "execute_result"
    }
   ],
   "source": [
    "# reshape images\n",
    "train_images = train_images.reshape(train_images.shape[0],1 , 48, 48)\n",
    "train_images.shape"
   ]
  },
  {
   "cell_type": "code",
   "execution_count": 13,
   "metadata": {},
   "outputs": [],
   "source": [
    "train_images, val_image, train_labels, val_labels = train_test_split(train_images, train_labels,\n",
    "                                                                     test_size=0.20, random_state=42)"
   ]
  },
  {
   "cell_type": "code",
   "execution_count": 14,
   "metadata": {},
   "outputs": [
    {
     "data": {
      "image/png": "[encoded data removed]",
      "text/plain": [
       "<Figure size 432x288 with 3 Axes>"
      ]
     },
     "metadata": {
      "needs_background": "light"
     },
     "output_type": "display_data"
    }
   ],
   "source": [
    "#Add some validation later\n",
    "for i in range(10,13):\n",
    "    plt.subplot(330 + (i+1))\n",
    "    plt.imshow(train_images[i].squeeze(), cmap=plt.get_cmap('gray'))\n",
    "    plt.title(train_labels[i])"
   ]
  },
  {
   "cell_type": "code",
   "execution_count": 15,
   "metadata": {},
   "outputs": [],
   "source": [
    "#Convert numpy data into tensor for PyTorch\n",
    "train_image_tensor = torch.tensor(train_images) / 255.0\n",
    "train_labels_tensor = torch.tensor(train_labels)\n",
    "\n",
    "val_image_tensor = torch.tensor(val_image) / 255.0\n",
    "val_label_tensor = torch.tensor(val_labels)\n",
    "\n",
    "val_tensor = TensorDataset(val_image_tensor, val_label_tensor)\n",
    "train_tensor = TensorDataset(train_image_tensor, train_labels_tensor)"
   ]
  },
  {
   "cell_type": "code",
   "execution_count": 16,
   "metadata": {},
   "outputs": [],
   "source": [
    "#DataLoader for train and test\n",
    "train_loader = DataLoader(train_tensor, batch_size=16, num_workers=2, shuffle=True)\n",
    "val_loader = DataLoader(val_tensor, batch_size=16, num_workers=2, shuffle=False)"
   ]
  },
  {
   "cell_type": "code",
   "execution_count": 23,
   "metadata": {},
   "outputs": [],
   "source": [
    "#------------Now Modeling---------------\n",
    "class Model(nn.Module):\n",
    "    def __init__(self):\n",
    "        super(Model, self).__init__()\n",
    "        self.conv1 = nn.Conv2d(1, 64, kernel_size=3)\n",
    "        self.conv2 = nn.Conv2d(64, 128, kernel_size=5)\n",
    "        self.conv2_drop = nn.Dropout2d(p=0.2)\n",
    "        self.conv2_bn = nn.BatchNorm2d(128)\n",
    "        self.conv3 = nn.Conv2d(128, 512, kernel_size=3)\n",
    "        self.conv3_drop = nn.Dropout2d(p=0.2)\n",
    "        self.conv3_bn = nn.BatchNorm2d(512)\n",
    "        self.conv4 = nn.Conv2d(512, 128, kernel_size=3)\n",
    "        self.conv4_drop = nn.Dropout2d(p=0.2)\n",
    "        self.conv4_bn = nn.BatchNorm2d(20)\n",
    "        self.fc1 = nn.Linear(4608, 512)\n",
    "        self.fc2 = nn.Linear(512, 256)\n",
    "        self.fc3 = nn.Linear(256, 3)\n",
    "        \n",
    "    def forward(self, x):\n",
    "        x = F.relu(F.max_pool2d(self.conv1(x), 2))\n",
    "        x = F.relu(F.max_pool2d(self.conv2_drop(self.conv2_bn(self.conv2(x))), 2))\n",
    "        x = F.relu(F.max_pool2d(self.conv3_drop(self.conv3_bn(self.conv3(x))), 2))\n",
    "        #print(x.shape)\n",
    "        #x = F.relu(F.max_pool2d(self.conv2_drop(self.conv4(x)), 2))\n",
    "        #print(x.shape)\n",
    "        x = x.view(-1, 4608)\n",
    "        x = F.relu(self.fc1(x))\n",
    "        x = F.dropout(x, training=self.training)\n",
    "        x = F.relu(self.fc2(x))\n",
    "        x = F.dropout(x, training=self.training)\n",
    "        x = self.fc3(x)\n",
    "        return F.log_softmax(x)\n",
    "\n",
    "\n",
    "model = Model()\n",
    "device = torch.device(\"cuda\" if torch.cuda.is_available() else \"cpu\")\n",
    "if (device.type=='cuda'):\n",
    "    model.cuda()"
   ]
  },
  {
   "cell_type": "code",
   "execution_count": 24,
   "metadata": {
    "scrolled": true
   },
   "outputs": [
    {
     "name": "stderr",
     "output_type": "stream",
     "text": [
      "C:\\Users\\Vicky\\anaconda3\\lib\\site-packages\\ipykernel_launcher.py:32: UserWarning: Implicit dimension choice for log_softmax has been deprecated. Change the call to include dim=X as an argument.\n"
     ]
    },
    {
     "name": "stdout",
     "output_type": "stream",
     "text": [
      " 1.200182\n",
      " 1.119463\n"
     ]
    }
   ],
   "source": [
    "optimizer = optim.Adam(model.parameters(), lr=0.0005) #adam optimizer from optim module\n",
    "model.train()\n",
    "\n",
    "losses = []\n",
    "for epoch in range(2):\n",
    "    for batch_idx, (data, target) in enumerate(train_loader):\n",
    "        # Get Samples\n",
    "        if (device.type=='cuda'):\n",
    "            data, target = Variable(data.cuda()), Variable(target.cuda())\n",
    "        else:\n",
    "            data, target = Variable(data), Variable(target) # making group of 16\n",
    "            \n",
    "        \n",
    "        # Init\n",
    "        optimizer.zero_grad() #making gradient zero for new mini-batch. \n",
    "\n",
    "        # Predict\n",
    "        y_pred = model(data) \n",
    "         \n",
    "        \n",
    "        # Calculate loss\n",
    "        loss = F.cross_entropy(y_pred, target)\n",
    "        losses.append(loss.data)\n",
    "        \n",
    "        # Backpropagation\n",
    "        loss.backward()  #It computes gradient of loss w.r.t all the parameters and store them in (parameter.grad) attribute.\n",
    "        optimizer.step() #optimizer.step() updates all the parameters based on (parameter.grad)\n",
    "        \n",
    "        '''\n",
    "        # model evaluation on validation data\n",
    "        if (device.type=='cuda'):\n",
    "            evaluate_x=val_image_tensor.cuda()\n",
    "            evaluate_y=val_label_tensor.cuda()\n",
    "        else:\n",
    "            evaluate_x=val_image_tensor\n",
    "            evaluate_y=val_label_tensor\n",
    "            \n",
    "        output = model(evaluate_x)\n",
    "        pred = output.data.max(1)[1]\n",
    "        d = pred.eq(evaluate_y.data).cpu()\n",
    "        a=(d.sum().data.cpu().numpy())\n",
    "        b=d.size()\n",
    "        b=torch.tensor(b)\n",
    "        b=(b.sum().data.cpu().numpy())\n",
    "        val_accuracy = a/b\n",
    "        \n",
    "        #Train Accuracy\n",
    "        if (device.type=='cuda'):\n",
    "            evaluate_x=train_image_tensor.cuda()\n",
    "            evaluate_y=train_labels_tensor.cuda()\n",
    "        else:\n",
    "            evaluate_x=train_image_tensor\n",
    "            evaluate_y=train_labels_tensor\n",
    "            \n",
    "        output = model(evaluate_x)\n",
    "        pred = output.data.max(1)[1]\n",
    "        d = pred.eq(evaluate_y.data).cpu()\n",
    "        a=(d.sum().data.cpu().numpy())\n",
    "        b=d.size()\n",
    "        b=torch.tensor(b)\n",
    "        b=(b.sum().data.cpu().numpy())\n",
    "        train_accuracy = a/b\n",
    "        '\n",
    "        \n",
    "        # Display\n",
    "        #if batch_idx % 100 == 1:\n",
    "        print('\\r Train Epoch: {} [{}/{} ({:.0f}%)]\\tLoss: {:.6f}\\tTrain_Acc: {:.6f}\\tVal_Acc: {:.6f}'.format( epoch, batch_idx * len(data), len(train_loader.dataset),\n",
    "                100. * batch_idx / len(train_loader), loss.data, train_accuracy, val_accuracy), end='')\n",
    "        '''\n",
    "        print('\\r {:.6f}'.format(loss.data), end='')\n",
    "    print()"
   ]
  },
  {
   "cell_type": "code",
   "execution_count": null,
   "metadata": {},
   "outputs": [],
   "source": [
    "#Train Accuracy\n",
    " if (device.type=='cuda'):\n",
    "    evaluate_x=train_image_tensor.cuda()\n",
    "    evaluate_y=train_labels_tensor.cuda()\n",
    "else:\n",
    "    evaluate_x=train_image_tensor\n",
    "    evaluate_y=train_labels_tensor\n",
    "output = model(evaluate_x)\n",
    "pred = output.data.max(1)[1]\n",
    "d = pred.eq(evaluate_y.data).cpu()\n",
    "a=(d.sum().data.cpu().numpy())\n",
    "b=d.size()\n",
    "b=torch.tensor(b)\n",
    "b=(b.sum().data.cpu().numpy())\n",
    "train_accuracy = a/b\n"
   ]
  }
 ],
 "metadata": {
  "kernelspec": {
   "display_name": "Python 3",
   "language": "python",
   "name": "python3"
  },
  "language_info": {
   "codemirror_mode": {
    "name": "ipython",
    "version": 3
   },
   "file_extension": ".py",
   "mimetype": "text/x-python",
   "name": "python",
   "nbconvert_exporter": "python",
   "pygments_lexer": "ipython3",
   "version": "3.7.6"
  }
 },
 "nbformat": 4,
 "nbformat_minor": 4
}
