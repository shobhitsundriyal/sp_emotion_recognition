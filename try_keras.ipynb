{
 "cells": [
  {
   "cell_type": "code",
   "execution_count": 1,
   "metadata": {},
   "outputs": [],
   "source": [
    "import numpy as np\n",
    "import matplotlib.pyplot as plt\n",
    "import pandas as pd\n",
    "from sklearn.preprocessing import normalize\n",
    "#import utils\n",
    "from tensorflow.keras.preprocessing.image import ImageDataGenerator\n",
    "from tensorflow.keras.layers import Dense, Input, Dropout, Flatten, Conv2D, BatchNormalization, Activation, MaxPooling2D\n",
    "from tensorflow.keras.models import Model, Sequential\n",
    "from tensorflow.keras.optimizers import Adam\n",
    "from tensorflow.keras.callbacks import ModelCheckpoint, ReduceLROnPlateau\n",
    "from tensorflow.keras.utils import plot_model\n",
    "\n",
    "from tensorflow.keras.utils import to_categorical"
   ]
  },
  {
   "cell_type": "code",
   "execution_count": 2,
   "metadata": {},
   "outputs": [
    {
     "data": {
      "text/html": [
       "<div>\n",
       "<style scoped>\n",
       "    .dataframe tbody tr th:only-of-type {\n",
       "        vertical-align: middle;\n",
       "    }\n",
       "\n",
       "    .dataframe tbody tr th {\n",
       "        vertical-align: top;\n",
       "    }\n",
       "\n",
       "    .dataframe thead th {\n",
       "        text-align: right;\n",
       "    }\n",
       "</style>\n",
       "<table border=\"1\" class=\"dataframe\">\n",
       "  <thead>\n",
       "    <tr style=\"text-align: right;\">\n",
       "      <th></th>\n",
       "      <th>emotion</th>\n",
       "      <th>pixel_0</th>\n",
       "      <th>pixel_1</th>\n",
       "      <th>pixel_2</th>\n",
       "      <th>pixel_3</th>\n",
       "      <th>pixel_4</th>\n",
       "      <th>pixel_5</th>\n",
       "      <th>pixel_6</th>\n",
       "      <th>pixel_7</th>\n",
       "      <th>pixel_8</th>\n",
       "      <th>...</th>\n",
       "      <th>pixel_2294</th>\n",
       "      <th>pixel_2295</th>\n",
       "      <th>pixel_2296</th>\n",
       "      <th>pixel_2297</th>\n",
       "      <th>pixel_2298</th>\n",
       "      <th>pixel_2299</th>\n",
       "      <th>pixel_2300</th>\n",
       "      <th>pixel_2301</th>\n",
       "      <th>pixel_2302</th>\n",
       "      <th>pixel_2303</th>\n",
       "    </tr>\n",
       "  </thead>\n",
       "  <tbody>\n",
       "    <tr>\n",
       "      <th>0</th>\n",
       "      <td>Fear</td>\n",
       "      <td>231</td>\n",
       "      <td>212</td>\n",
       "      <td>156</td>\n",
       "      <td>164</td>\n",
       "      <td>174</td>\n",
       "      <td>138</td>\n",
       "      <td>161</td>\n",
       "      <td>173</td>\n",
       "      <td>182</td>\n",
       "      <td>...</td>\n",
       "      <td>104</td>\n",
       "      <td>138</td>\n",
       "      <td>152</td>\n",
       "      <td>122</td>\n",
       "      <td>114</td>\n",
       "      <td>101</td>\n",
       "      <td>97</td>\n",
       "      <td>88</td>\n",
       "      <td>110</td>\n",
       "      <td>152</td>\n",
       "    </tr>\n",
       "    <tr>\n",
       "      <th>1</th>\n",
       "      <td>Fear</td>\n",
       "      <td>55</td>\n",
       "      <td>55</td>\n",
       "      <td>55</td>\n",
       "      <td>55</td>\n",
       "      <td>55</td>\n",
       "      <td>54</td>\n",
       "      <td>60</td>\n",
       "      <td>68</td>\n",
       "      <td>54</td>\n",
       "      <td>...</td>\n",
       "      <td>90</td>\n",
       "      <td>83</td>\n",
       "      <td>77</td>\n",
       "      <td>53</td>\n",
       "      <td>37</td>\n",
       "      <td>34</td>\n",
       "      <td>30</td>\n",
       "      <td>34</td>\n",
       "      <td>30</td>\n",
       "      <td>57</td>\n",
       "    </tr>\n",
       "    <tr>\n",
       "      <th>2</th>\n",
       "      <td>Sad</td>\n",
       "      <td>20</td>\n",
       "      <td>17</td>\n",
       "      <td>19</td>\n",
       "      <td>21</td>\n",
       "      <td>25</td>\n",
       "      <td>38</td>\n",
       "      <td>42</td>\n",
       "      <td>42</td>\n",
       "      <td>46</td>\n",
       "      <td>...</td>\n",
       "      <td>29</td>\n",
       "      <td>36</td>\n",
       "      <td>68</td>\n",
       "      <td>91</td>\n",
       "      <td>85</td>\n",
       "      <td>93</td>\n",
       "      <td>97</td>\n",
       "      <td>99</td>\n",
       "      <td>107</td>\n",
       "      <td>118</td>\n",
       "    </tr>\n",
       "    <tr>\n",
       "      <th>3</th>\n",
       "      <td>Happy</td>\n",
       "      <td>4</td>\n",
       "      <td>2</td>\n",
       "      <td>13</td>\n",
       "      <td>41</td>\n",
       "      <td>56</td>\n",
       "      <td>62</td>\n",
       "      <td>67</td>\n",
       "      <td>87</td>\n",
       "      <td>95</td>\n",
       "      <td>...</td>\n",
       "      <td>59</td>\n",
       "      <td>66</td>\n",
       "      <td>80</td>\n",
       "      <td>74</td>\n",
       "      <td>69</td>\n",
       "      <td>99</td>\n",
       "      <td>28</td>\n",
       "      <td>3</td>\n",
       "      <td>7</td>\n",
       "      <td>12</td>\n",
       "    </tr>\n",
       "    <tr>\n",
       "      <th>4</th>\n",
       "      <td>Fear</td>\n",
       "      <td>255</td>\n",
       "      <td>255</td>\n",
       "      <td>255</td>\n",
       "      <td>255</td>\n",
       "      <td>255</td>\n",
       "      <td>255</td>\n",
       "      <td>255</td>\n",
       "      <td>255</td>\n",
       "      <td>255</td>\n",
       "      <td>...</td>\n",
       "      <td>94</td>\n",
       "      <td>21</td>\n",
       "      <td>22</td>\n",
       "      <td>51</td>\n",
       "      <td>71</td>\n",
       "      <td>80</td>\n",
       "      <td>82</td>\n",
       "      <td>79</td>\n",
       "      <td>79</td>\n",
       "      <td>83</td>\n",
       "    </tr>\n",
       "  </tbody>\n",
       "</table>\n",
       "<p>5 rows × 2305 columns</p>\n",
       "</div>"
      ],
      "text/plain": [
       "  emotion  pixel_0  pixel_1  pixel_2  pixel_3  pixel_4  pixel_5  pixel_6  \\\n",
       "0    Fear      231      212      156      164      174      138      161   \n",
       "1    Fear       55       55       55       55       55       54       60   \n",
       "2     Sad       20       17       19       21       25       38       42   \n",
       "3   Happy        4        2       13       41       56       62       67   \n",
       "4    Fear      255      255      255      255      255      255      255   \n",
       "\n",
       "   pixel_7  pixel_8  ...  pixel_2294  pixel_2295  pixel_2296  pixel_2297  \\\n",
       "0      173      182  ...         104         138         152         122   \n",
       "1       68       54  ...          90          83          77          53   \n",
       "2       42       46  ...          29          36          68          91   \n",
       "3       87       95  ...          59          66          80          74   \n",
       "4      255      255  ...          94          21          22          51   \n",
       "\n",
       "   pixel_2298  pixel_2299  pixel_2300  pixel_2301  pixel_2302  pixel_2303  \n",
       "0         114         101          97          88         110         152  \n",
       "1          37          34          30          34          30          57  \n",
       "2          85          93          97          99         107         118  \n",
       "3          69          99          28           3           7          12  \n",
       "4          71          80          82          79          79          83  \n",
       "\n",
       "[5 rows x 2305 columns]"
      ]
     },
     "execution_count": 2,
     "metadata": {},
     "output_type": "execute_result"
    }
   ],
   "source": [
    "data = pd.read_csv('data/tr.csv')\n",
    "data.head()"
   ]
  },
  {
   "cell_type": "code",
   "execution_count": 3,
   "metadata": {},
   "outputs": [
    {
     "data": {
      "text/plain": [
       "array(['Fear', 'Sad', 'Happy'], dtype=object)"
      ]
     },
     "execution_count": 3,
     "metadata": {},
     "output_type": "execute_result"
    }
   ],
   "source": [
    "data.emotion.unique()"
   ]
  },
  {
   "cell_type": "code",
   "execution_count": 4,
   "metadata": {},
   "outputs": [
    {
     "name": "stdout",
     "output_type": "stream",
     "text": [
      "10817 10817\n"
     ]
    }
   ],
   "source": [
    "img_size = 48\n",
    "batch_size = 32\n",
    "num_classes = 3\n",
    "\n",
    "datagen = ImageDataGenerator(rotation_range=20, horizontal_flip=True, validation_split=0.15, \n",
    "                             width_shift_range=0.1, height_shift_range=0.1)\n",
    "r_mapping = {0:'Fear', 1:'Happy', 2:'Sad'}\n",
    "mapping = {'Fear':0, 'Happy':1,'Sad':2}\n",
    "X, y = data.iloc[:, 1:].values, data['emotion'].map(mapping).values\n",
    "print(len(X), len(y))"
   ]
  },
  {
   "cell_type": "code",
   "execution_count": 5,
   "metadata": {},
   "outputs": [
    {
     "data": {
      "text/plain": [
       "(10817, 48, 48, 1)"
      ]
     },
     "execution_count": 5,
     "metadata": {},
     "output_type": "execute_result"
    }
   ],
   "source": [
    "#X_norm = normalize(X, axis=1, norm='l2');\n",
    "X_norm = X/255.\n",
    "X = X_norm.reshape(X.shape[0], 48, 48, 1)\n",
    "X.shape"
   ]
  },
  {
   "cell_type": "code",
   "execution_count": 6,
   "metadata": {},
   "outputs": [
    {
     "data": {
      "text/plain": [
       "array([0.9058823529411765, 0.8313725490196079, 0.611764705882353, ...,\n",
       "       0.34509803921568627, 0.43137254901960786, 0.596078431372549],\n",
       "      dtype=object)"
      ]
     },
     "execution_count": 6,
     "metadata": {},
     "output_type": "execute_result"
    }
   ],
   "source": [
    "data.iloc[0,1:].values/255."
   ]
  },
  {
   "cell_type": "code",
   "execution_count": 7,
   "metadata": {},
   "outputs": [],
   "source": [
    "y = to_categorical(y, num_classes=3)"
   ]
  },
  {
   "cell_type": "code",
   "execution_count": 8,
   "metadata": {},
   "outputs": [],
   "source": [
    "datagen.fit(X)"
   ]
  },
  {
   "cell_type": "code",
   "execution_count": 9,
   "metadata": {},
   "outputs": [
    {
     "name": "stdout",
     "output_type": "stream",
     "text": [
      "Model: \"sequential\"\n",
      "_________________________________________________________________\n",
      "Layer (type)                 Output Shape              Param #   \n",
      "=================================================================\n",
      "conv2d (Conv2D)              (None, 48, 48, 64)        640       \n",
      "_________________________________________________________________\n",
      "batch_normalization (BatchNo (None, 48, 48, 64)        256       \n",
      "_________________________________________________________________\n",
      "activation (Activation)      (None, 48, 48, 64)        0         \n",
      "_________________________________________________________________\n",
      "max_pooling2d (MaxPooling2D) (None, 24, 24, 64)        0         \n",
      "_________________________________________________________________\n",
      "dropout (Dropout)            (None, 24, 24, 64)        0         \n",
      "_________________________________________________________________\n",
      "conv2d_1 (Conv2D)            (None, 24, 24, 128)       204928    \n",
      "_________________________________________________________________\n",
      "batch_normalization_1 (Batch (None, 24, 24, 128)       512       \n",
      "_________________________________________________________________\n",
      "activation_1 (Activation)    (None, 24, 24, 128)       0         \n",
      "_________________________________________________________________\n",
      "max_pooling2d_1 (MaxPooling2 (None, 12, 12, 128)       0         \n",
      "_________________________________________________________________\n",
      "dropout_1 (Dropout)          (None, 12, 12, 128)       0         \n",
      "_________________________________________________________________\n",
      "conv2d_2 (Conv2D)            (None, 12, 12, 512)       590336    \n",
      "_________________________________________________________________\n",
      "batch_normalization_2 (Batch (None, 12, 12, 512)       2048      \n",
      "_________________________________________________________________\n",
      "activation_2 (Activation)    (None, 12, 12, 512)       0         \n",
      "_________________________________________________________________\n",
      "max_pooling2d_2 (MaxPooling2 (None, 6, 6, 512)         0         \n",
      "_________________________________________________________________\n",
      "dropout_2 (Dropout)          (None, 6, 6, 512)         0         \n",
      "_________________________________________________________________\n",
      "conv2d_3 (Conv2D)            (None, 6, 6, 512)         2359808   \n",
      "_________________________________________________________________\n",
      "batch_normalization_3 (Batch (None, 6, 6, 512)         2048      \n",
      "_________________________________________________________________\n",
      "activation_3 (Activation)    (None, 6, 6, 512)         0         \n",
      "_________________________________________________________________\n",
      "max_pooling2d_3 (MaxPooling2 (None, 3, 3, 512)         0         \n",
      "_________________________________________________________________\n",
      "dropout_3 (Dropout)          (None, 3, 3, 512)         0         \n",
      "_________________________________________________________________\n",
      "flatten (Flatten)            (None, 4608)              0         \n",
      "_________________________________________________________________\n",
      "dense (Dense)                (None, 256)               1179904   \n",
      "_________________________________________________________________\n",
      "batch_normalization_4 (Batch (None, 256)               1024      \n",
      "_________________________________________________________________\n",
      "activation_4 (Activation)    (None, 256)               0         \n",
      "_________________________________________________________________\n",
      "dropout_4 (Dropout)          (None, 256)               0         \n",
      "_________________________________________________________________\n",
      "dense_1 (Dense)              (None, 512)               131584    \n",
      "_________________________________________________________________\n",
      "batch_normalization_5 (Batch (None, 512)               2048      \n",
      "_________________________________________________________________\n",
      "activation_5 (Activation)    (None, 512)               0         \n",
      "_________________________________________________________________\n",
      "dropout_5 (Dropout)          (None, 512)               0         \n",
      "_________________________________________________________________\n",
      "dense_2 (Dense)              (None, 3)                 1539      \n",
      "=================================================================\n",
      "Total params: 4,476,675\n",
      "Trainable params: 4,472,707\n",
      "Non-trainable params: 3,968\n",
      "_________________________________________________________________\n"
     ]
    }
   ],
   "source": [
    "model = Sequential()\n",
    "\n",
    "model.add(Conv2D(64, (3,3), padding='same', input_shape=(img_size, img_size, 1)))\n",
    "model.add(BatchNormalization())\n",
    "model.add(Activation('relu'))\n",
    "model.add(MaxPooling2D(pool_size=(2,2)))\n",
    "model.add(Dropout(0.25))\n",
    "\n",
    "model.add(Conv2D(128, (5,5), padding='same'))\n",
    "model.add(BatchNormalization())\n",
    "model.add(Activation('relu'))\n",
    "model.add(MaxPooling2D(pool_size=(2,2)))\n",
    "model.add(Dropout(0.25))\n",
    "\n",
    "model.add(Conv2D(512, (3,3), padding='same'))\n",
    "model.add(BatchNormalization())\n",
    "model.add(Activation('relu'))\n",
    "model.add(MaxPooling2D(pool_size=(2,2)))\n",
    "model.add(Dropout(0.25))\n",
    "\n",
    "model.add(Conv2D(512, (3,3), padding='same'))\n",
    "model.add(BatchNormalization())\n",
    "model.add(Activation('relu'))\n",
    "model.add(MaxPooling2D(pool_size=(2,2)))\n",
    "model.add(Dropout(0.25))\n",
    "\n",
    "model.add(Flatten())\n",
    "\n",
    "model.add(Dense(256))\n",
    "model.add(BatchNormalization())\n",
    "model.add(Activation('relu'))\n",
    "model.add(Dropout(0.25))\n",
    "\n",
    "model.add(Dense(512))\n",
    "model.add(BatchNormalization())\n",
    "model.add(Activation('relu'))\n",
    "model.add(Dropout(0.25))\n",
    "\n",
    "model.add(Dense(3, activation='softmax'))\n",
    "\n",
    "opt = Adam(lr=0.005)\n",
    "\n",
    "model.compile(optimizer=opt, loss='categorical_crossentropy', metrics=['accuracy',])\n",
    "model.summary()"
   ]
  },
  {
   "cell_type": "code",
   "execution_count": 10,
   "metadata": {},
   "outputs": [
    {
     "name": "stdout",
     "output_type": "stream",
     "text": [
      "Epoch 1/30\n",
      "339/338 [==============================] - 8s 24ms/step - loss: 1.1792 - accuracy: 0.4257\n",
      "Epoch 2/30\n",
      "339/338 [==============================] - 8s 24ms/step - loss: 1.0610 - accuracy: 0.4769\n",
      "Epoch 3/30\n",
      "339/338 [==============================] - 8s 24ms/step - loss: 0.9627 - accuracy: 0.5440\n",
      "Epoch 4/30\n",
      "339/338 [==============================] - 8s 24ms/step - loss: 0.8596 - accuracy: 0.5878\n",
      "Epoch 5/30\n",
      "339/338 [==============================] - 8s 24ms/step - loss: 0.8137 - accuracy: 0.6186\n",
      "Epoch 6/30\n",
      "339/338 [==============================] - 8s 24ms/step - loss: 0.7714 - accuracy: 0.6430\n",
      "Epoch 7/30\n",
      "339/338 [==============================] - 8s 24ms/step - loss: 0.7583 - accuracy: 0.6590\n",
      "Epoch 8/30\n",
      "339/338 [==============================] - 9s 25ms/step - loss: 0.7307 - accuracy: 0.6689\n",
      "Epoch 9/30\n",
      "339/338 [==============================] - 9s 26ms/step - loss: 0.7103 - accuracy: 0.6812\n",
      "Epoch 10/30\n",
      "339/338 [==============================] - 9s 27ms/step - loss: 0.6862 - accuracy: 0.6948\n",
      "Epoch 11/30\n",
      "339/338 [==============================] - 9s 28ms/step - loss: 0.6817 - accuracy: 0.6976\n",
      "Epoch 12/30\n",
      "339/338 [==============================] - 10s 29ms/step - loss: 0.6583 - accuracy: 0.7026\n",
      "Epoch 13/30\n",
      "339/338 [==============================] - 10s 31ms/step - loss: 0.6575 - accuracy: 0.7092\n",
      "Epoch 14/30\n",
      "339/338 [==============================] - 12s 35ms/step - loss: 0.6444 - accuracy: 0.7084\n",
      "Epoch 15/30\n",
      "339/338 [==============================] - 13s 38ms/step - loss: 0.6337 - accuracy: 0.7223\n",
      "Epoch 16/30\n",
      "339/338 [==============================] - 13s 37ms/step - loss: 0.6311 - accuracy: 0.7208\n",
      "Epoch 17/30\n",
      "339/338 [==============================] - 13s 38ms/step - loss: 0.6205 - accuracy: 0.7248\n",
      "Epoch 18/30\n",
      "339/338 [==============================] - 13s 38ms/step - loss: 0.6106 - accuracy: 0.7301\n",
      "Epoch 19/30\n",
      "339/338 [==============================] - 13s 40ms/step - loss: 0.6057 - accuracy: 0.7333\n",
      "Epoch 20/30\n",
      "339/338 [==============================] - 13s 39ms/step - loss: 0.6008 - accuracy: 0.7389\n",
      "Epoch 21/30\n",
      "339/338 [==============================] - 13s 39ms/step - loss: 0.5873 - accuracy: 0.7412\n",
      "Epoch 22/30\n",
      "339/338 [==============================] - 15s 45ms/step - loss: 0.5923 - accuracy: 0.7426\n",
      "Epoch 23/30\n",
      "339/338 [==============================] - 17s 49ms/step - loss: 0.5872 - accuracy: 0.7423\n",
      "Epoch 24/30\n",
      "339/338 [==============================] - 14s 40ms/step - loss: 0.5780 - accuracy: 0.7485\n",
      "Epoch 25/30\n",
      "339/338 [==============================] - 20s 58ms/step - loss: 0.5678 - accuracy: 0.7554\n",
      "Epoch 26/30\n",
      "339/338 [==============================] - 13s 38ms/step - loss: 0.5615 - accuracy: 0.7589\n",
      "Epoch 27/30\n",
      "339/338 [==============================] - 17s 50ms/step - loss: 0.5604 - accuracy: 0.7556\n",
      "Epoch 28/30\n",
      "339/338 [==============================] - 16s 48ms/step - loss: 0.5480 - accuracy: 0.7566\n",
      "Epoch 29/30\n",
      "339/338 [==============================] - 18s 53ms/step - loss: 0.5486 - accuracy: 0.7619\n",
      "Epoch 30/30\n",
      "339/338 [==============================] - 19s 55ms/step - loss: 0.5422 - accuracy: 0.7661\n"
     ]
    },
    {
     "data": {
      "text/plain": [
       "\"for e in range(epochs):\\n    print('Epoch', e)\\n    batches = 0\\n    for x_batch, y_batch in datagen.flow(X, y, batch_size=32):\\n        model.fit(x_batch, y_batch)\\n        batches += 1\\n        if batches >= len(X) / 32:\\n            # we need to break the loop by hand because\\n            # the generator loops indefinitely\\n            break\\n        print('\\r Batch:', batches, end='')\\n\""
      ]
     },
     "execution_count": 10,
     "metadata": {},
     "output_type": "execute_result"
    }
   ],
   "source": [
    "epochs = 30\n",
    "\n",
    "history = model.fit(datagen.flow(X, y, batch_size=32),\n",
    "          steps_per_epoch=len(X) / 32, epochs=epochs)\n",
    "\n",
    "'''for e in range(epochs):\n",
    "    print('Epoch', e)\n",
    "    batches = 0\n",
    "    for x_batch, y_batch in datagen.flow(X, y, batch_size=32):\n",
    "        model.fit(x_batch, y_batch)\n",
    "        batches += 1\n",
    "        if batches >= len(X) / 32:\n",
    "            # we need to break the loop by hand because\n",
    "            # the generator loops indefinitely\n",
    "            break\n",
    "        print('\\r Batch:', batches, end='')\n",
    "'''"
   ]
  },
  {
   "cell_type": "code",
   "execution_count": 12,
   "metadata": {},
   "outputs": [
    {
     "data": {
      "image/png": "[encoded data removed]",
      "text/plain": [
       "<Figure size 432x288 with 1 Axes>"
      ]
     },
     "metadata": {
      "needs_background": "light"
     },
     "output_type": "display_data"
    }
   ],
   "source": [
    "plt.plot(history.history['loss'], label='MAE (training data)')\n",
    "plt.plot(history.history['accuracy'], label='Acc (validation data)')\n",
    "#plt.ylabel('MAE value')\n",
    "plt.xlabel('No. epoch')\n",
    "plt.legend(loc=\"upper right\")\n",
    "plt.show()"
   ]
  },
  {
   "cell_type": "code",
   "execution_count": 34,
   "metadata": {},
   "outputs": [
    {
     "data": {
      "text/plain": [
       "(45, 48, 48, 1)"
      ]
     },
     "execution_count": 34,
     "metadata": {},
     "output_type": "execute_result"
    }
   ],
   "source": [
    "## lets test \n",
    "test = data.iloc[440:485, 1:].values.astype('float32') / 255.\n",
    "test = test.reshape(test.shape[0], 48, 48, 1)\n",
    "test.shape"
   ]
  },
  {
   "cell_type": "code",
   "execution_count": 38,
   "metadata": {},
   "outputs": [
    {
     "name": "stdout",
     "output_type": "stream",
     "text": [
      "[1 2 2 2 2 1 1 2 1 1 1 2 2 1 1 1 1 2 2 2 2 1 1 2 0 2 1 1 2 0 1 1 2 1 2 1 2\n",
      " 2 1 2 1 1 1 2 2]\n"
     ]
    },
    {
     "data": {
      "text/plain": [
       "['Happy',\n",
       " 'Sad',\n",
       " 'Sad',\n",
       " 'Sad',\n",
       " 'Sad',\n",
       " 'Happy',\n",
       " 'Happy',\n",
       " 'Sad',\n",
       " 'Happy',\n",
       " 'Happy',\n",
       " 'Happy',\n",
       " 'Sad',\n",
       " 'Sad',\n",
       " 'Happy',\n",
       " 'Happy',\n",
       " 'Happy',\n",
       " 'Happy',\n",
       " 'Sad',\n",
       " 'Sad',\n",
       " 'Sad',\n",
       " 'Sad',\n",
       " 'Happy',\n",
       " 'Happy',\n",
       " 'Sad',\n",
       " 'Fear',\n",
       " 'Sad',\n",
       " 'Happy',\n",
       " 'Happy',\n",
       " 'Sad',\n",
       " 'Fear',\n",
       " 'Happy',\n",
       " 'Happy',\n",
       " 'Sad',\n",
       " 'Happy',\n",
       " 'Sad',\n",
       " 'Happy',\n",
       " 'Sad',\n",
       " 'Sad',\n",
       " 'Happy',\n",
       " 'Sad',\n",
       " 'Happy',\n",
       " 'Happy',\n",
       " 'Happy',\n",
       " 'Sad',\n",
       " 'Sad']"
      ]
     },
     "execution_count": 38,
     "metadata": {},
     "output_type": "execute_result"
    }
   ],
   "source": [
    "test_op = model.predict_classes(test)\n",
    "print(test_op)\n",
    "ret = []\n",
    "for label in test_op:\n",
    "    clas = r_mapping[label]\n",
    "    ret.append(clas)\n",
    "ret"
   ]
  },
  {
   "cell_type": "code",
   "execution_count": 39,
   "metadata": {},
   "outputs": [],
   "source": [
    "data.iloc[440:485, 1:].to_csv('test.csv', index=False)"
   ]
  },
  {
   "cell_type": "code",
   "execution_count": null,
   "metadata": {},
   "outputs": [],
   "source": []
  }
 ],
 "metadata": {
  "kernelspec": {
   "display_name": "Python 3",
   "language": "python",
   "name": "python3"
  },
  "language_info": {
   "codemirror_mode": {
    "name": "ipython",
    "version": 3
   },
   "file_extension": ".py",
   "mimetype": "text/x-python",
   "name": "python",
   "nbconvert_exporter": "python",
   "pygments_lexer": "ipython3",
   "version": "3.7.6"
  }
 },
 "nbformat": 4,
 "nbformat_minor": 4
}
